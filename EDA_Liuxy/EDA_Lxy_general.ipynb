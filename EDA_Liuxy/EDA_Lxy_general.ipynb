{
 "cells": [
  {
   "cell_type": "code",
   "execution_count": 1,
   "metadata": {},
   "outputs": [],
   "source": [
    "# read data in APAC_2023_Datasets crash_info_vehicles.csv by python\n",
    "import pandas as pd\n",
    "import numpy as np\n",
    "import matplotlib.pyplot as plt\n",
    "import sys\n",
    "\n",
    "sys.path.append('C:\\\\Users\\\\10539\\\\Desktop\\\\Datathon')"
   ]
  },
  {
   "cell_type": "code",
   "execution_count": 2,
   "metadata": {},
   "outputs": [],
   "source": [
    "Feature = pd.DataFrame()"
   ]
  },
  {
   "cell_type": "code",
   "execution_count": 3,
   "metadata": {},
   "outputs": [
    {
     "name": "stderr",
     "output_type": "stream",
     "text": [
      "C:\\Users\\10539\\AppData\\Local\\Temp/ipykernel_11608/3510773502.py:1: DtypeWarning: Columns (97,98,99) have mixed types. Specify dtype option on import or set low_memory=False.\n",
      "  data = pd.read_csv('../APAC_2023_Datasets/Crashes/crash_info_general.csv')\n"
     ]
    }
   ],
   "source": [
    "data = pd.read_csv('../APAC_2023_Datasets/Crashes/crash_info_general.csv')"
   ]
  },
  {
   "cell_type": "code",
   "execution_count": 8,
   "metadata": {},
   "outputs": [
    {
     "data": {
      "text/plain": [
       "Index(['Unnamed: 0', 'CRN', 'ARRIVAL_TM', 'AUTOMOBILE_COUNT',\n",
       "       'BELTED_DEATH_COUNT', 'BELTED_SUSP_SERIOUS_INJ_COUNT', 'BICYCLE_COUNT',\n",
       "       'BICYCLE_DEATH_COUNT', 'BICYCLE_SUSP_SERIOUS_INJ_COUNT', 'BUS_COUNT',\n",
       "       ...\n",
       "       'WZ_MOVING', 'WZ_OTHER', 'WZ_SHLDER_MDN', 'ROADWAY_CLEARED', 'WEATHER1',\n",
       "       'WEATHER2', 'WZ_WORKERS_INJ_KILLED', 'SECONDARY_CRASH',\n",
       "       'INTERSECTION_RELATED', 'fips'],\n",
       "      dtype='object', length=101)"
      ]
     },
     "execution_count": 8,
     "metadata": {},
     "output_type": "execute_result"
    }
   ],
   "source": [
    "data.columns"
   ]
  },
  {
   "cell_type": "code",
   "execution_count": 26,
   "metadata": {},
   "outputs": [],
   "source": [
    "Feature['ARRIVAL_TM']=data['ARRIVAL_TM']"
   ]
  },
  {
   "cell_type": "code",
   "execution_count": 27,
   "metadata": {},
   "outputs": [],
   "source": [
    "temp = Feature['ARRIVAL_TM'].copy(deep=True)\n",
    "temp_num = temp.copy(deep=True)\n",
    "temp[temp_num<=60] = 'police arrive in 1 hour'\n",
    "temp[temp_num>60] = 'police arrive in more than 1 hour'\n",
    "Feature['ARRIVAL_TM'] = temp"
   ]
  },
  {
   "cell_type": "code",
   "execution_count": 28,
   "metadata": {},
   "outputs": [
    {
     "data": {
      "text/html": [
       "<div>\n",
       "<style scoped>\n",
       "    .dataframe tbody tr th:only-of-type {\n",
       "        vertical-align: middle;\n",
       "    }\n",
       "\n",
       "    .dataframe tbody tr th {\n",
       "        vertical-align: top;\n",
       "    }\n",
       "\n",
       "    .dataframe thead th {\n",
       "        text-align: right;\n",
       "    }\n",
       "</style>\n",
       "<table border=\"1\" class=\"dataframe\">\n",
       "  <thead>\n",
       "    <tr style=\"text-align: right;\">\n",
       "      <th></th>\n",
       "      <th>ARRIVAL_TM</th>\n",
       "    </tr>\n",
       "  </thead>\n",
       "  <tbody>\n",
       "    <tr>\n",
       "      <th>0</th>\n",
       "      <td>police arrive in more than 1 hour</td>\n",
       "    </tr>\n",
       "    <tr>\n",
       "      <th>1</th>\n",
       "      <td>police arrive in more than 1 hour</td>\n",
       "    </tr>\n",
       "    <tr>\n",
       "      <th>2</th>\n",
       "      <td>police arrive in more than 1 hour</td>\n",
       "    </tr>\n",
       "    <tr>\n",
       "      <th>3</th>\n",
       "      <td>police arrive in more than 1 hour</td>\n",
       "    </tr>\n",
       "    <tr>\n",
       "      <th>4</th>\n",
       "      <td>police arrive in 1 hour</td>\n",
       "    </tr>\n",
       "    <tr>\n",
       "      <th>...</th>\n",
       "      <td>...</td>\n",
       "    </tr>\n",
       "    <tr>\n",
       "      <th>133008</th>\n",
       "      <td>NaN</td>\n",
       "    </tr>\n",
       "    <tr>\n",
       "      <th>133009</th>\n",
       "      <td>police arrive in 1 hour</td>\n",
       "    </tr>\n",
       "    <tr>\n",
       "      <th>133010</th>\n",
       "      <td>police arrive in more than 1 hour</td>\n",
       "    </tr>\n",
       "    <tr>\n",
       "      <th>133011</th>\n",
       "      <td>NaN</td>\n",
       "    </tr>\n",
       "    <tr>\n",
       "      <th>133012</th>\n",
       "      <td>police arrive in more than 1 hour</td>\n",
       "    </tr>\n",
       "  </tbody>\n",
       "</table>\n",
       "<p>133013 rows × 1 columns</p>\n",
       "</div>"
      ],
      "text/plain": [
       "                               ARRIVAL_TM\n",
       "0       police arrive in more than 1 hour\n",
       "1       police arrive in more than 1 hour\n",
       "2       police arrive in more than 1 hour\n",
       "3       police arrive in more than 1 hour\n",
       "4                 police arrive in 1 hour\n",
       "...                                   ...\n",
       "133008                                NaN\n",
       "133009            police arrive in 1 hour\n",
       "133010  police arrive in more than 1 hour\n",
       "133011                                NaN\n",
       "133012  police arrive in more than 1 hour\n",
       "\n",
       "[133013 rows x 1 columns]"
      ]
     },
     "execution_count": 28,
     "metadata": {},
     "output_type": "execute_result"
    }
   ],
   "source": [
    "Feature"
   ]
  },
  {
   "cell_type": "code",
   "execution_count": 29,
   "metadata": {},
   "outputs": [],
   "source": [
    "temp = data[['AUTOMOBILE_COUNT','BICYCLE_COUNT','BUS_COUNT']]"
   ]
  },
  {
   "cell_type": "code",
   "execution_count": 31,
   "metadata": {},
   "outputs": [
    {
     "name": "stderr",
     "output_type": "stream",
     "text": [
      "C:\\Users\\10539\\AppData\\Local\\Temp/ipykernel_11608/3359164612.py:1: SettingWithCopyWarning: \n",
      "A value is trying to be set on a copy of a slice from a DataFrame.\n",
      "Try using .loc[row_indexer,col_indexer] = value instead\n",
      "\n",
      "See the caveats in the documentation: https://pandas.pydata.org/pandas-docs/stable/user_guide/indexing.html#returning-a-view-versus-a-copy\n",
      "  temp['involve type']=temp.apply(lambda x: '2car' if x['AUTOMOBILE_COUNT']>=2 else 'bike0' if x['BICYCLE_COUNT']>0 \\\n"
     ]
    }
   ],
   "source": [
    "temp['involve type']=temp.apply(lambda x: '2car' if x['AUTOMOBILE_COUNT']>=2 else 'bike0' if x['BICYCLE_COUNT']>0 \\\n",
    "                                else 'bus' if x['BUS_COUNT']>0 else 'others',axis=1)"
   ]
  },
  {
   "cell_type": "code",
   "execution_count": 32,
   "metadata": {},
   "outputs": [],
   "source": [
    "Feature['involve type']=temp['involve type']"
   ]
  },
  {
   "cell_type": "code",
   "execution_count": 33,
   "metadata": {},
   "outputs": [],
   "source": [
    "Feature['CRN']=data['CRN']"
   ]
  },
  {
   "cell_type": "code",
   "execution_count": null,
   "metadata": {},
   "outputs": [],
   "source": [
    "1 – Daylight\n",
    "2 – Dark – no streetlights\n",
    "3 – Dark – streetlights\n",
    "4 – Dusk\n",
    "5 – Dawn\n",
    "6 – Dark – unknown roadway lighting\n",
    "8 – Other\n",
    "9 – Unknown"
   ]
  },
  {
   "cell_type": "code",
   "execution_count": 37,
   "metadata": {},
   "outputs": [],
   "source": [
    "temp = data['ILLUMINATION'].copy(deep=True)\n",
    "temp_num = temp.copy(deep=True)\n",
    "temp[(temp_num).isin([1])] = 'bright'\n",
    "temp[(temp_num).isin([2])] = 'dark no light'\n",
    "temp[(temp_num).isin([3])] = 'dark streetlights '\n",
    "temp[(temp_num).isin([4])] = 'Dusk '\n",
    "temp[(temp_num).isin([5])] = 'Dawn '\n",
    "temp[(temp_num).isin([6])] = 'dark unknown '\n",
    "temp[(temp_num).isin([8,9])] = 'others '\n",
    "Feature['ILLUMINATION'] = temp"
   ]
  },
  {
   "cell_type": "code",
   "execution_count": null,
   "metadata": {},
   "outputs": [],
   "source": [
    "ROAD_CONDITION Roadway Surface Condition Code\n",
    "01 - Dry\n",
    "02 - Ice/Frost\n",
    "03 - Mud, Dirt, Gravel\n",
    "04 - Oil\n",
    "05 - Sand\n",
    "06 - Slush\n",
    "07 - Snow\n",
    "08 - Water (Standing or Moving)\n",
    "09 - Wet\n",
    "22 - Mud, Sand, Dirt, Oil (Expired 1-1-20)\n",
    "98 - Other\n",
    "99 - Unknown"
   ]
  },
  {
   "cell_type": "code",
   "execution_count": 39,
   "metadata": {},
   "outputs": [
    {
     "data": {
      "text/plain": [
       "1     105628\n",
       "9      22906\n",
       "2       1435\n",
       "7        893\n",
       "98       714\n",
       "6        612\n",
       "99       387\n",
       "8        382\n",
       "0         34\n",
       "3         11\n",
       "4          9\n",
       "5          2\n",
       "Name: ROAD_CONDITION, dtype: int64"
      ]
     },
     "execution_count": 39,
     "metadata": {},
     "output_type": "execute_result"
    }
   ],
   "source": [
    "data['ROAD_CONDITION'].value_counts()"
   ]
  },
  {
   "cell_type": "code",
   "execution_count": 40,
   "metadata": {},
   "outputs": [],
   "source": [
    "temp = data['ROAD_CONDITION'].copy(deep=True)\n",
    "temp_num = temp.copy(deep=True)\n",
    "temp[(temp_num).isin([1])] = 'Dry'\n",
    "temp[(temp_num).isin([2,7])] = 'Ice/Frost'\n",
    "temp[(temp_num).isin([3])] = ' Mud, Dirt, Gravel'\n",
    "temp[(temp_num).isin([9])] = 'Wet '\n",
    "Feature['ROAD_CONDITION'] = temp"
   ]
  },
  {
   "cell_type": "code",
   "execution_count": 42,
   "metadata": {},
   "outputs": [],
   "source": [
    "Feature.to_csv('EDA_Lxy_general.csv',index=False)"
   ]
  },
  {
   "cell_type": "code",
   "execution_count": 35,
   "metadata": {},
   "outputs": [
    {
     "data": {
      "text/plain": [
       "1.0    79173\n",
       "3.0    46763\n",
       "4.0     2583\n",
       "2.0     1701\n",
       "5.0     1447\n",
       "6.0      901\n",
       "8.0      440\n",
       "9.0        2\n",
       "Name: ILLUMINATION, dtype: int64"
      ]
     },
     "execution_count": 35,
     "metadata": {},
     "output_type": "execute_result"
    }
   ],
   "source": [
    "data['ILLUMINATION'].value_counts()"
   ]
  },
  {
   "cell_type": "code",
   "execution_count": 24,
   "metadata": {},
   "outputs": [
    {
     "data": {
      "text/plain": [
       "0         2\n",
       "1         2\n",
       "2         2\n",
       "3         1\n",
       "4         0\n",
       "         ..\n",
       "133008    1\n",
       "133009    1\n",
       "133010    2\n",
       "133011    0\n",
       "133012    0\n",
       "Name: AUTOMOBILE_COUNT, Length: 133013, dtype: int64"
      ]
     },
     "execution_count": 24,
     "metadata": {},
     "output_type": "execute_result"
    }
   ],
   "source": [
    "temp = data['AUTOMOBILE_COUNT']\n",
    "temp = Feature['AUTOMOBILE_COUNT'].copy(deep=True)\n",
    "temp_num = temp.copy(deep=True)\n",
    "temp[temp_num = 0] = 'automobile not  involved'\n",
    "temp[temp_num > 0] = 'police arrive in more than 1 hour'\n",
    "Feature['ARRIVAL_TM'] = temp"
   ]
  }
 ],
 "metadata": {
  "kernelspec": {
   "display_name": "pytorch1.9",
   "language": "python",
   "name": "scenic"
  },
  "language_info": {
   "codemirror_mode": {
    "name": "ipython",
    "version": 3
   },
   "file_extension": ".py",
   "mimetype": "text/x-python",
   "name": "python",
   "nbconvert_exporter": "python",
   "pygments_lexer": "ipython3",
   "version": "3.8.11"
  },
  "orig_nbformat": 4
 },
 "nbformat": 4,
 "nbformat_minor": 2
}
