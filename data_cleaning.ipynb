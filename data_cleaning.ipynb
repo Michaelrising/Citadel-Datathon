{
 "cells": [
  {
   "cell_type": "code",
   "execution_count": 4,
   "metadata": {},
   "outputs": [
    {
     "name": "stderr",
     "output_type": "stream",
     "text": [
      "/var/folders/ps/lvm9x7k52b3f3xmw967hqn9w0000gn/T/ipykernel_47523/4065829516.py:4: DtypeWarning: Columns (7) have mixed types. Specify dtype option on import or set low_memory=False.\n",
      "  trafficStop = pd.read_csv('./APAC_2023_Datasets/Traffic, Investigations _ Other/traffic_stops_philadelphia.csv')\n"
     ]
    }
   ],
   "source": [
    "import pandas as pd\n",
    "import matplotlib.pyplot as plt\n",
    "\n",
    "trafficStop = pd.read_csv('./APAC_2023_Datasets/Traffic, Investigations _ Other/traffic_stops_philadelphia.csv')\n",
    "investigations = pd.read_csv('./APAC_2023_Datasets/Traffic, Investigations _ Other/investigations.csv')\n",
    "crimes = pd.read_csv('./APAC_2023_Datasets/Traffic, Investigations _ Other/crimes.csv')\n",
    "policeStations = pd.read_csv('./APAC_2023_Datasets/Traffic, Investigations _ Other/police_stations.csv')\n",
    "policeDistricts = pd.read_csv('./APAC_2023_Datasets/Traffic, Investigations _ Other/police_districts.csv')"
   ]
  },
  {
   "cell_type": "code",
   "execution_count": 3,
   "metadata": {},
   "outputs": [],
   "source": []
  }
 ],
 "metadata": {
  "kernelspec": {
   "display_name": "Datathon",
   "language": "python",
   "name": "python3"
  },
  "language_info": {
   "codemirror_mode": {
    "name": "ipython",
    "version": 3
   },
   "file_extension": ".py",
   "mimetype": "text/x-python",
   "name": "python",
   "nbconvert_exporter": "python",
   "pygments_lexer": "ipython3",
   "version": "3.9.16"
  },
  "orig_nbformat": 4
 },
 "nbformat": 4,
 "nbformat_minor": 2
}
