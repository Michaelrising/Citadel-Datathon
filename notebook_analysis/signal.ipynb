{
 "cells": [
  {
   "cell_type": "code",
   "execution_count": 1,
   "metadata": {},
   "outputs": [
    {
     "name": "stderr",
     "output_type": "stream",
     "text": [
      "c:\\Users\\10539\\.conda\\envs\\pytorch1.9\\lib\\site-packages\\geopandas\\_compat.py:123: UserWarning: The Shapely GEOS version (3.11.1-CAPI-1.17.1) is incompatible with the GEOS version PyGEOS was compiled with (3.10.4-CAPI-1.16.2). Conversions between both will be slow.\n",
      "  warnings.warn(\n",
      "C:\\Users\\10539\\AppData\\Local\\Temp/ipykernel_16156/656295441.py:2: UserWarning: Shapely 2.0 is installed, but because PyGEOS is also installed, GeoPandas will still use PyGEOS by default for now. To force to use and test Shapely 2.0, you have to set the environment variable USE_PYGEOS=0. You can do this before starting the Python process, or in your code before importing geopandas:\n",
      "\n",
      "import os\n",
      "os.environ['USE_PYGEOS'] = '0'\n",
      "import geopandas\n",
      "\n",
      "In a future release, GeoPandas will switch to using Shapely by default. If you are using PyGEOS directly (calling PyGEOS functions on geometries from GeoPandas), this will then stop working and you are encouraged to migrate from PyGEOS to Shapely 2.0 (https://shapely.readthedocs.io/en/latest/migration_pygeos.html).\n",
      "  import geopandas as gpd\n"
     ]
    }
   ],
   "source": [
    "import pandas as pd\n",
    "import geopandas as gpd\n",
    "import numpy as np\n",
    "import seaborn as sns\n",
    "import os\n",
    "os.environ['USE_PYGEOS'] = '0'\n",
    "import geopandas as gpd\n",
    "from shapely.geometry import Polygon\n",
    "import matplotlib.pyplot as plt\n",
    "from pymining import itemmining\n",
    "import sys\n",
    "sys.path.append('C:\\\\Users\\\\10539\\\\Desktop\\\\Datathon')\n",
    "color_set = ['#0c4e8c','#0c81e4','#11c4d4','#4fe7af','#ccf1cd',\\\n",
    "           '#F9F3D1','#D4E537','#B3BE1A','#989400','#2C2B19',\\\n",
    "           '#3A0E21','#EA0D62','#FD7B6E','#FDAD67','#FDDA64']"
   ]
  },
  {
   "cell_type": "code",
   "execution_count": 2,
   "metadata": {},
   "outputs": [
    {
     "name": "stderr",
     "output_type": "stream",
     "text": [
      "C:\\Users\\10539\\AppData\\Local\\Temp/ipykernel_16156/155282276.py:1: DtypeWarning: Columns (97,98,99) have mixed types. Specify dtype option on import or set low_memory=False.\n",
      "  Data_general = pd.read_csv('../APAC_2023_Datasets/Crashes/crash_info_general.csv')\n"
     ]
    }
   ],
   "source": [
    "Data_general = pd.read_csv('../APAC_2023_Datasets/Crashes/crash_info_general.csv')"
   ]
  },
  {
   "cell_type": "code",
   "execution_count": 3,
   "metadata": {},
   "outputs": [],
   "source": [
    "Data_flag = pd.read_csv('../APAC_2023_Datasets/Crashes/crash_info_flag_variables.csv')"
   ]
  },
  {
   "attachments": {},
   "cell_type": "markdown",
   "metadata": {},
   "source": [
    "Y fatal\n",
    "X 喝酒嗑药和交叉项 喝药 年龄 成熟 地区 天气 signal"
   ]
  },
  {
   "cell_type": "code",
   "execution_count": null,
   "metadata": {},
   "outputs": [],
   "source": [
    "Data_flag = "
   ]
  }
 ],
 "metadata": {
  "kernelspec": {
   "display_name": "pytorch1.9",
   "language": "python",
   "name": "scenic"
  },
  "language_info": {
   "codemirror_mode": {
    "name": "ipython",
    "version": 3
   },
   "file_extension": ".py",
   "mimetype": "text/x-python",
   "name": "python",
   "nbconvert_exporter": "python",
   "pygments_lexer": "ipython3",
   "version": "3.8.11"
  },
  "orig_nbformat": 4
 },
 "nbformat": 4,
 "nbformat_minor": 2
}
